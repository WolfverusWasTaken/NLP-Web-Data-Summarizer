{
 "cells": [
  {
   "cell_type": "code",
   "execution_count": null,
   "metadata": {},
   "outputs": [],
   "source": [
    "from matplotlib import pyplot as plt\n",
    "import pandas as pd\n",
    "import numpy as np\n",
    "from parrot import Parrot\n",
    "import truecase\n",
    "\n",
    "import re\n",
    "import heapq\n",
    "\n",
    "import nltk\n",
    "parrot = Parrot(model_tag=\"prithivida/parrot_paraphraser_on_T5\")"
   ]
  },
  {
   "cell_type": "code",
   "execution_count": null,
   "metadata": {},
   "outputs": [],
   "source": [
    "# load text file\n",
    "with open('Input.txt', 'r') as f:\n",
    "    file_data = f.read()\n",
    "\n",
    "# view text data\n",
    "#print(file_data)"
   ]
  },
  {
   "cell_type": "code",
   "execution_count": null,
   "metadata": {},
   "outputs": [],
   "source": [
    "text = file_data\n",
    "text = re.sub(r'\\[[0-9]*\\]',' ',text) # replace reference number i.e. [1], [10], [20] with empty space, if any..\n",
    "text = re.sub(r'\\s+',' ',text) # replace one or more spaces with single space\n",
    "print(text)"
   ]
  },
  {
   "cell_type": "code",
   "execution_count": null,
   "metadata": {},
   "outputs": [],
   "source": [
    "# generate clean text\n",
    "clean_text = text.lower() # convert all uppercase characters into lowercase characters\n",
    "\n",
    "# replace characters other than [a-zA-Z0-9], digits & one or more spaces with single space\n",
    "regex_patterns = [r'\\W',r'\\d',r'\\s+']\n",
    "for regex in regex_patterns:\n",
    "    clean_text = re.sub(regex,' ',clean_text)\n",
    "\n",
    "print(clean_text)"
   ]
  },
  {
   "cell_type": "code",
   "execution_count": null,
   "metadata": {},
   "outputs": [],
   "source": [
    "# split (tokenize) the sentences\n",
    "sentences = nltk.sent_tokenize(text)\n",
    "print(sentences)"
   ]
  },
  {
   "cell_type": "code",
   "execution_count": null,
   "metadata": {},
   "outputs": [],
   "source": [
    "# get stop words list\n",
    "stop_words = nltk.corpus.stopwords.words('english')\n",
    "print(stop_words)"
   ]
  },
  {
   "cell_type": "code",
   "execution_count": null,
   "metadata": {},
   "outputs": [],
   "source": [
    "# create an empty dictionary to house the word count\n",
    "word_count = {}\n",
    "\n",
    "# loop through tokenized words, remove stop words and save word count to dictionary\n",
    "for word in nltk.word_tokenize(clean_text):\n",
    "    # remove stop words\n",
    "    if word not in stop_words:\n",
    "        # save word count to dictionary\n",
    "        if word not in word_count.keys():\n",
    "            word_count[word] = 1\n",
    "        else:\n",
    "            word_count[word] += 1"
   ]
  },
  {
   "cell_type": "code",
   "execution_count": null,
   "metadata": {},
   "outputs": [],
   "source": [
    "# helper function for plotting the top words.\n",
    "def plot_top_words(word_count_dict, show_top_n=20):\n",
    "    \"\"\"\n",
    "    Plot top words\n",
    "    \n",
    "    INPUT:\n",
    "    word_count_dict - dict. word count housed in a dictionary\n",
    "    show_top_n - int. top n words to display (default 20)\n",
    "    \n",
    "    OUTPUT:\n",
    "    Plot with top n words\n",
    "    \n",
    "    \"\"\"\n",
    "    word_count_table = pd.DataFrame.from_dict(word_count_dict, orient = 'index').rename(columns={0: 'score'})\n",
    "    word_count_table.sort_values(by='score').tail(show_top_n).plot(kind='barh', figsize=(10,10))\n",
    "    plt.show()\n",
    "\n",
    "plot_top_words(word_count, 20)"
   ]
  },
  {
   "cell_type": "code",
   "execution_count": null,
   "metadata": {},
   "outputs": [],
   "source": [
    "# create empty dictionary to house sentence score    \n",
    "sentence_score = {}\n",
    "\n",
    "# loop through tokenized sentence, only take sentences that have less than 30 words, then add word score to form sentence score\n",
    "for sentence in sentences:\n",
    "    # check if word in sentence is in word_count dictionary\n",
    "    for word in nltk.word_tokenize(sentence.lower()):\n",
    "        if word in word_count.keys():\n",
    "            # only take sentence that has less than 30 words\n",
    "            if len(sentence.split(' ')) < 38:\n",
    "                # add word score to sentence score\n",
    "                if sentence not in sentence_score.keys():\n",
    "                    sentence_score[sentence] = word_count[word]\n",
    "                else:\n",
    "                    sentence_score[sentence] += word_count[word]"
   ]
  },
  {
   "cell_type": "code",
   "execution_count": null,
   "metadata": {},
   "outputs": [],
   "source": [
    "df_sentence_score = pd.DataFrame.from_dict(sentence_score, orient = 'index').rename(columns={0: 'score'})\n",
    "df_sentence_score.sort_values(by='score', ascending = False)"
   ]
  },
  {
   "cell_type": "code",
   "execution_count": null,
   "metadata": {},
   "outputs": [],
   "source": [
    "# get the best 3 sentences for summary             \n",
    "best_sentences = heapq.nlargest(10, sentence_score, key=sentence_score.get)"
   ]
  },
  {
   "cell_type": "code",
   "execution_count": null,
   "metadata": {},
   "outputs": [],
   "source": [
    "print('SUMMARY')\n",
    "\n",
    "\n",
    "# display top sentences based on their sentence sequence in the original text\n",
    "for sentence in sentences:\n",
    "    if sentence in best_sentences:\n",
    "        #print (sentence)\n",
    "        print(\"-\"*100)\n",
    "        print(\"Input_phrase: \", sentence)\n",
    "        \n",
    "        para_phrases = parrot.augment(input_phrase=sentence, use_gpu=False)\n",
    "        if para_phrases[0][0] == sentence:\n",
    "            print(\"Modif_phrase: \", truecase.get_true_case(para_phrases[0][0]) + \"(NO CHANGE)\")\n",
    "        else:\n",
    "            print(\"Modif_phrase: \", truecase.get_true_case(para_phrases[0][0]))\n",
    "        \n",
    "        # for para_phrase in para_phrases:\n",
    "        #     print(para_phrase)"
   ]
  },
  {
   "cell_type": "code",
   "execution_count": null,
   "metadata": {},
   "outputs": [],
   "source": []
  }
 ],
 "metadata": {
  "interpreter": {
   "hash": "2176fd1922e5cb22e080fec8ae71c320cbf59dfda8c0167c80ecf6ddb690a825"
  },
  "kernelspec": {
   "display_name": "Python 3.7.6 64-bit ('action_recog': conda)",
   "language": "python",
   "name": "python3"
  },
  "language_info": {
   "codemirror_mode": {
    "name": "ipython",
    "version": 3
   },
   "file_extension": ".py",
   "mimetype": "text/x-python",
   "name": "python",
   "nbconvert_exporter": "python",
   "pygments_lexer": "ipython3",
   "version": "3.8.12"
  },
  "orig_nbformat": 4
 },
 "nbformat": 4,
 "nbformat_minor": 2
}
